{
  "nbformat": 4,
  "nbformat_minor": 0,
  "metadata": {
    "colab": {
      "provenance": [],
      "gpuType": "T4"
    },
    "kernelspec": {
      "name": "python3",
      "display_name": "Python 3"
    },
    "language_info": {
      "name": "python"
    },
    "accelerator": "GPU"
  },
  "cells": [
    {
      "cell_type": "markdown",
      "source": [
        "```\n",
        "Generative AI with Python, by Fernando Amaral\n",
        "```"
      ],
      "metadata": {
        "id": "vMs6nnSGuGMr"
      }
    },
    {
      "cell_type": "markdown",
      "source": [
        "# Setup"
      ],
      "metadata": {
        "id": "VZ1qaEfEaFIo"
      }
    },
    {
      "cell_type": "code",
      "source": [
        "#gpu\n",
        "!pip install diffusers transformers accelerate safetensors"
      ],
      "metadata": {
        "id": "-OnHVZ_JFu5D"
      },
      "execution_count": null,
      "outputs": []
    },
    {
      "cell_type": "code",
      "source": [
        "from diffusers import AudioLDM2Pipeline\n",
        "import torch\n",
        "import scipy\n",
        "from google.colab import files"
      ],
      "metadata": {
        "id": "xz0-gP5BH066"
      },
      "execution_count": null,
      "outputs": []
    },
    {
      "cell_type": "code",
      "source": [
        "def download_file(file_path):\n",
        "    files.download(file_path)"
      ],
      "metadata": {
        "id": "R1LZAS48T_qM"
      },
      "execution_count": null,
      "outputs": []
    },
    {
      "cell_type": "markdown",
      "source": [
        "# Code"
      ],
      "metadata": {
        "id": "nGgMksf9IZZn"
      }
    },
    {
      "cell_type": "code",
      "source": [
        "def generate_audio_from_prompt(model_path, prompt, num_steps, audio_length, num_waveforms, save_path, rate=32000):\n",
        "    pipeline = AudioLDM2Pipeline.from_pretrained(\n",
        "        pretrained_model_name_or_path=model_path,\n",
        "        torch_dtype=torch.float16\n",
        "    ).to(\"cuda\")\n",
        "\n",
        "    audios = pipeline(\n",
        "        prompt=prompt,\n",
        "        num_inference_steps=num_steps,\n",
        "        audio_length_in_s=audio_length,\n",
        "        num_waveforms_per_prompt=num_waveforms\n",
        "    ).audios\n",
        "\n",
        "    scipy.io.wavfile.write(save_path, rate=rate, data=audios[0])\n"
      ],
      "metadata": {
        "id": "73q5P5PCQIk8"
      },
      "execution_count": null,
      "outputs": []
    },
    {
      "cell_type": "markdown",
      "source": [
        "# Execution"
      ],
      "metadata": {
        "id": "l3xSMLxmViK2"
      }
    },
    {
      "cell_type": "code",
      "source": [
        "pretrained_model_name_or_path = \"cvssp/audioldm2-large\"\n",
        "prompt = \"Audio simulation of a quiet village with rain but no thunder. \"\n",
        "save_path=\"city.wav\"\n",
        "\n",
        "num_inference_steps = 200\n",
        "audio_length_in_s = 10.0\n",
        "num_waveforms_per_prompt = 3\n",
        "\n",
        "generate_audio_from_prompt(\n",
        "    pretrained_model_name_or_path,\n",
        "    prompt,\n",
        "    num_inference_steps,\n",
        "    audio_length_in_s,\n",
        "    num_waveforms_per_prompt,\n",
        "    save_path=save_path\n",
        ")"
      ],
      "metadata": {
        "id": "USiNC30uZM9M"
      },
      "execution_count": null,
      "outputs": []
    },
    {
      "cell_type": "code",
      "source": [
        "download_file(save_path)"
      ],
      "metadata": {
        "id": "RLthwKzqyzdt"
      },
      "execution_count": null,
      "outputs": []
    },
    {
      "cell_type": "code",
      "source": [],
      "metadata": {
        "id": "tKFYiYuyVrkt"
      },
      "execution_count": null,
      "outputs": []
    }
  ]
}