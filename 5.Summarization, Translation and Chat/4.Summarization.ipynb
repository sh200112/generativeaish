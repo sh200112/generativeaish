{
  "nbformat": 4,
  "nbformat_minor": 0,
  "metadata": {
    "colab": {
      "provenance": [],
      "collapsed_sections": [
        "cJfaYyRJ7Iee",
        "x91yioQ47QJ6",
        "G_z4DbQS7X1L",
        "XdVM_E6G7cvz"
      ]
    },
    "kernelspec": {
      "name": "python3",
      "display_name": "Python 3"
    },
    "language_info": {
      "name": "python"
    }
  },
  "cells": [
    {
      "cell_type": "markdown",
      "source": [
        "```\n",
        "Generative AI with Python, by Fernando Amaral\n",
        "```"
      ],
      "metadata": {
        "id": "vMs6nnSGuGMr"
      }
    },
    {
      "cell_type": "markdown",
      "source": [
        "# Setup"
      ],
      "metadata": {
        "id": "cJfaYyRJ7Iee"
      }
    },
    {
      "cell_type": "code",
      "execution_count": null,
      "metadata": {
        "id": "5RUntn_sYJs5",
        "collapsed": true
      },
      "outputs": [],
      "source": [
        "!pip install transformers"
      ]
    },
    {
      "cell_type": "code",
      "source": [
        "import transformers\n",
        "from transformers import pipeline, AutoTokenizer"
      ],
      "metadata": {
        "id": "uqJyRCM06Ty2"
      },
      "execution_count": null,
      "outputs": []
    },
    {
      "cell_type": "markdown",
      "source": [
        "# Diagram"
      ],
      "metadata": {
        "id": "x91yioQ47QJ6"
      }
    },
    {
      "cell_type": "markdown",
      "source": [
        "![image.png](data:image/png;base64,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)"
      ],
      "metadata": {
        "id": "smvyEHRZ9TVX"
      }
    },
    {
      "cell_type": "markdown",
      "source": [
        "# Code"
      ],
      "metadata": {
        "id": "G_z4DbQS7X1L"
      }
    },
    {
      "cell_type": "code",
      "source": [
        "def initialize_summarizer(language=\"english\"):\n",
        "    models = {\n",
        "        \"english\": \"facebook/bart-large-cnn\",\n",
        "        \"portuguese\": \"neuralmind/bert-base-portuguese-cased\"\n",
        "    }\n",
        "    return pipeline(\"summarization\", model=models[language], tokenizer=models[language])"
      ],
      "metadata": {
        "id": "bP0fOXEf63Ap"
      },
      "execution_count": null,
      "outputs": []
    },
    {
      "cell_type": "code",
      "source": [
        "def get_text_and_summary_lengths():\n",
        "    text = input(\"Enter the text to be summarized: \")\n",
        "\n",
        "    max_length = int(input(\"Enter the maximum length for the summary: \"))\n",
        "    min_length = int(input(\"Enter the minimum length for the summary: \"))\n",
        "\n",
        "    return text, max_length, min_length"
      ],
      "metadata": {
        "id": "BuRGdFc76_Vk"
      },
      "execution_count": null,
      "outputs": []
    },
    {
      "cell_type": "code",
      "source": [
        "def display_summary(summary):\n",
        "    print(\"\\nSummary:\")\n",
        "    print(summary)"
      ],
      "metadata": {
        "id": "59kvyvHr6_ZH"
      },
      "execution_count": null,
      "outputs": []
    },
    {
      "cell_type": "code",
      "source": [
        "def main():\n",
        "    language = input(\"Which language do you want to use? (english/portuguese): \").lower()\n",
        "    summarizer = initialize_summarizer(language) # can use summarizer = pipeline(\"summarization\",model='bart-large-cnn',tokenizer='bart-large-cnn')\n",
        "\n",
        "    while True:\n",
        "        text, max_length, min_length = get_text_and_summary_lengths()\n",
        "        summary = summarizer(text, max_length=max_length, min_length=min_length)\n",
        "\n",
        "        display_summary(summary[0]['summary_text'])\n",
        "\n",
        "        cont = input(\"\\nDo you want to summarize another text? (yes/no) \").lower()\n",
        "        if cont != \"yes\":\n",
        "            break"
      ],
      "metadata": {
        "id": "dAUIf8wJ6_ca"
      },
      "execution_count": null,
      "outputs": []
    },
    {
      "cell_type": "markdown",
      "source": [
        "# Execution"
      ],
      "metadata": {
        "id": "XdVM_E6G7cvz"
      }
    },
    {
      "cell_type": "code",
      "source": [
        "main()"
      ],
      "metadata": {
        "id": "dAYU3eT1aaMf"
      },
      "execution_count": null,
      "outputs": []
    },
    {
      "cell_type": "code",
      "source": [],
      "metadata": {
        "id": "wSt4J7XRc4-H"
      },
      "execution_count": null,
      "outputs": []
    }
  ]
}