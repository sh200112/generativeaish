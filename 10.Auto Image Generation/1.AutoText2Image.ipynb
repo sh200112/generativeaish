{
  "nbformat": 4,
  "nbformat_minor": 0,
  "metadata": {
    "colab": {
      "provenance": [],
      "collapsed_sections": [
        "E9iAY7FhtjAH",
        "IXRQwaMTtm6l",
        "GNbiEcUqtqaQ",
        "9UQdAvz2ttb7"
      ]
    },
    "kernelspec": {
      "name": "python3",
      "display_name": "Python 3"
    },
    "language_info": {
      "name": "python"
    }
  },
  "cells": [
    {
      "cell_type": "markdown",
      "source": [
        "```\n",
        "Generative AI with Python, by Fernando Amaral\n",
        "```"
      ],
      "metadata": {
        "id": "vMs6nnSGuGMr"
      }
    },
    {
      "cell_type": "markdown",
      "source": [
        "# Setup"
      ],
      "metadata": {
        "id": "E9iAY7FhtjAH"
      }
    },
    {
      "cell_type": "code",
      "source": [
        "#gpu\n",
        "!pip install diffusers transformers safetensors accelerate"
      ],
      "metadata": {
        "id": "Zwihrkq4BuoR",
        "collapsed": true
      },
      "execution_count": null,
      "outputs": []
    },
    {
      "cell_type": "code",
      "source": [
        "from diffusers import AutoPipelineForText2Image\n",
        "import matplotlib.pyplot as plt\n",
        "import torch"
      ],
      "metadata": {
        "id": "OMSoMBjhLgzn"
      },
      "execution_count": 2,
      "outputs": []
    },
    {
      "cell_type": "markdown",
      "source": [
        "# Diagram"
      ],
      "metadata": {
        "id": "IXRQwaMTtm6l"
      }
    },
    {
      "cell_type": "markdown",
      "source": [
        "![image.png](data:image/png;base64,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)"
      ],
      "metadata": {
        "id": "65puX9snu_XK"
      }
    },
    {
      "cell_type": "markdown",
      "source": [
        "# Code"
      ],
      "metadata": {
        "id": "GNbiEcUqtqaQ"
      }
    },
    {
      "cell_type": "code",
      "source": [
        "def load_model(pretrained_model_or_path, data_type=torch.float16, device=\"cuda\"):\n",
        "    pipeline = AutoPipelineForText2Image.from_pretrained(\n",
        "        pretrained_model_or_path=pretrained_model_or_path,\n",
        "        data_type=data_type,\n",
        "        use_safetensors=True\n",
        "    ).to(device)\n",
        "    return pipeline"
      ],
      "metadata": {
        "id": "eqHDgJDHpaUK"
      },
      "execution_count": 3,
      "outputs": []
    },
    {
      "cell_type": "code",
      "source": [
        "def generate_image(pipeline, prompt, num_inference_steps):\n",
        "    image = pipeline(prompt=prompt, num_inference_steps=num_inference_steps).images[0]\n",
        "    return image"
      ],
      "metadata": {
        "id": "msT8sbDOpaXd"
      },
      "execution_count": 4,
      "outputs": []
    },
    {
      "cell_type": "code",
      "source": [
        "def print_image(image):\n",
        "    plt.imshow(image)\n",
        "    plt.axis('off')\n",
        "    plt.show()"
      ],
      "metadata": {
        "id": "dCCY6B6_paaY"
      },
      "execution_count": 5,
      "outputs": []
    },
    {
      "cell_type": "code",
      "source": [
        "def main():\n",
        "    pretrained_model_or_path = \"runwayml/stable-diffusion-v1-5\"\n",
        "    prompt = \"a woman wearing bikini, sitting on a beachball.\"\n",
        "    num_inference_steps = 25\n",
        "\n",
        "    pipeline = load_model(pretrained_model_or_path)\n",
        "    image = generate_image(pipeline, prompt, num_inference_steps)\n",
        "    print_image(image)"
      ],
      "metadata": {
        "id": "YwmZ-5yhpadE"
      },
      "execution_count": 14,
      "outputs": []
    },
    {
      "cell_type": "markdown",
      "source": [
        "# Execution"
      ],
      "metadata": {
        "id": "9UQdAvz2ttb7"
      }
    },
    {
      "cell_type": "code",
      "source": [
        "main()"
      ],
      "metadata": {
        "id": "dS27DtdIpaf4"
      },
      "execution_count": null,
      "outputs": []
    },
    {
      "cell_type": "code",
      "source": [],
      "metadata": {
        "id": "4Cj6Oyucrt6F"
      },
      "execution_count": null,
      "outputs": []
    }
  ]
}